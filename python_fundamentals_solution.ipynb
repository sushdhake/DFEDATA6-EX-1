{
  "nbformat": 4,
  "nbformat_minor": 0,
  "metadata": {
    "colab": {
      "name": "python fundamentals solution.ipynb",
      "provenance": [],
      "authorship_tag": "ABX9TyMa2Sz2tcxZ7cGPfwG/LAVo",
      "include_colab_link": true
    },
    "kernelspec": {
      "name": "python3",
      "display_name": "Python 3"
    },
    "language_info": {
      "name": "python"
    }
  },
  "cells": [
    {
      "cell_type": "markdown",
      "metadata": {
        "id": "view-in-github",
        "colab_type": "text"
      },
      "source": [
        "<a href=\"https://colab.research.google.com/github/sushdhake/DFEDATA6-EX-1/blob/master/python_fundamentals_solution.ipynb\" target=\"_parent\"><img src=\"https://colab.research.google.com/assets/colab-badge.svg\" alt=\"Open In Colab\"/></a>"
      ]
    },
    {
      "cell_type": "code",
      "execution_count": null,
      "metadata": {
        "colab": {
          "base_uri": "https://localhost:8080/",
          "height": 235
        },
        "id": "pROqfeczVIVr",
        "outputId": "b7078a2b-d652-4e8d-a17a-f45c557cef9b"
      },
      "outputs": [
        {
          "output_type": "error",
          "ename": "TypeError",
          "evalue": "ignored",
          "traceback": [
            "\u001b[0;31m---------------------------------------------------------------------------\u001b[0m",
            "\u001b[0;31mTypeError\u001b[0m                                 Traceback (most recent call last)",
            "\u001b[0;32m<ipython-input-22-f02545b9a9c6>\u001b[0m in \u001b[0;36m<module>\u001b[0;34m()\u001b[0m\n\u001b[0;32m----> 1\u001b[0;31m \u001b[0mprint\u001b[0m\u001b[0;34m(\u001b[0m\u001b[0;36m5\u001b[0m\u001b[0;34m)\u001b[0m\u001b[0;34m\u001b[0m\u001b[0;34m\u001b[0m\u001b[0m\n\u001b[0m\u001b[1;32m      2\u001b[0m \u001b[0mprint\u001b[0m\u001b[0;34m(\u001b[0m\u001b[0;36m5.0\u001b[0m\u001b[0;34m)\u001b[0m\u001b[0;34m\u001b[0m\u001b[0;34m\u001b[0m\u001b[0m\n\u001b[1;32m      3\u001b[0m \u001b[0mprint\u001b[0m\u001b[0;34m(\u001b[0m\u001b[0;34m\"5\"\u001b[0m\u001b[0;34m)\u001b[0m\u001b[0;34m\u001b[0m\u001b[0;34m\u001b[0m\u001b[0m\n\u001b[1;32m      4\u001b[0m \u001b[0mprint\u001b[0m\u001b[0;34m(\u001b[0m\u001b[0;32mTrue\u001b[0m\u001b[0;34m)\u001b[0m\u001b[0;34m\u001b[0m\u001b[0;34m\u001b[0m\u001b[0m\n\u001b[1;32m      5\u001b[0m \u001b[0mprint\u001b[0m\u001b[0;34m(\u001b[0m\u001b[0;34m[\u001b[0m\u001b[0;34m\"Lovers\"\u001b[0m\u001b[0;34m,\u001b[0m \u001b[0;34m\"Haters\"\u001b[0m\u001b[0;34m,\u001b[0m \u001b[0;34m\"Needers\"\u001b[0m\u001b[0;34m]\u001b[0m\u001b[0;34m)\u001b[0m\u001b[0;34m\u001b[0m\u001b[0;34m\u001b[0m\u001b[0m\n",
            "\u001b[0;31mTypeError\u001b[0m: 'tuple' object is not callable"
          ]
        }
      ],
      "source": [
        "print(5)\n",
        "print(5.0)\n",
        "print(\"5\")\n",
        "print(True)\n",
        "print([\"Lovers\", \"Haters\", \"Needers\"])"
      ]
    },
    {
      "cell_type": "code",
      "source": [
        "print(type(5))\n",
        "print(type(5.0))\n",
        "print(type(\"5\"))\n",
        "print(type(True))\n",
        "print(type([\"Lovers\", \"Haters\", \"Needers\"]))"
      ],
      "metadata": {
        "colab": {
          "base_uri": "https://localhost:8080/"
        },
        "id": "th_DAMwlVh_s",
        "outputId": "abc232dd-eb5b-42b4-d9a1-2416f8ae5d75"
      },
      "execution_count": null,
      "outputs": [
        {
          "output_type": "stream",
          "name": "stdout",
          "text": [
            "<class 'int'>\n",
            "<class 'float'>\n",
            "<class 'str'>\n",
            "<class 'bool'>\n",
            "<class 'list'>\n"
          ]
        }
      ]
    },
    {
      "cell_type": "code",
      "source": [
        "name = 'Kofi'\n",
        "age = 41\n",
        "height = 1.82\n",
        "hobbies = [\"Artificial Intelligence\", \"Gaming\", \"Functional Medicine\"]\n",
        "is_alive = True\n",
        "\n",
        "fmesg = f\"{name} is {age} and {height * 100} cm\" # formatted string\n",
        "\n",
        "print(name, age, height)  # print with multiple args = spaced output\n",
        "print(hobbies)\n",
        "print(is_alive)\n",
        "\n",
        "\n",
        "print(fmesg)"
      ],
      "metadata": {
        "colab": {
          "base_uri": "https://localhost:8080/"
        },
        "id": "LXXRkl4BVuZh",
        "outputId": "e8cbb75e-27b5-497a-d930-723ad46c7f09"
      },
      "execution_count": null,
      "outputs": [
        {
          "output_type": "stream",
          "name": "stdout",
          "text": [
            "Kofi 41 1.82\n",
            "['Artificial Intelligence', 'Gaming', 'Functional Medicine']\n",
            "True\n",
            "Kofi is 41 and 182.0 cm\n"
          ]
        }
      ]
    },
    {
      "cell_type": "code",
      "source": [
        "age += 1\n",
        "\n",
        "age   # the last line of a jupyter cell is always printed\n"
      ],
      "metadata": {
        "colab": {
          "base_uri": "https://localhost:8080/"
        },
        "id": "YAQSzJ8KWUM8",
        "outputId": "73f538a6-2c29-426d-8e7e-e219b24f731a"
      },
      "execution_count": null,
      "outputs": [
        {
          "output_type": "execute_result",
          "data": {
            "text/plain": [
              "42"
            ]
          },
          "metadata": {},
          "execution_count": 4
        }
      ]
    },
    {
      "cell_type": "code",
      "source": [
        "print( \"Kofi \" + \"Glover\")\n",
        "print( 2 ** 3 )    # 2 * 2 * 2 = 2^3\n",
        "print( \"-\" * 3 )\n",
        "print( \"@\" in \"kofi.glover@qa.com\")\n",
        "print( True and False )\n",
        "print( [\"Cake\", \"Cream\"] + [\"Flour\", \"Sugar\"] )\n",
        "print( 1.14 <=  2.13 )\n"
      ],
      "metadata": {
        "colab": {
          "base_uri": "https://localhost:8080/"
        },
        "id": "0bjv5w9YWZDv",
        "outputId": "13e9e4da-0a15-4f77-bff4-5aed1f59c72a"
      },
      "execution_count": null,
      "outputs": [
        {
          "output_type": "stream",
          "name": "stdout",
          "text": [
            "Kofi Glover\n",
            "8\n",
            "---\n",
            "True\n",
            "False\n",
            "['Cake', 'Cream', 'Flour', 'Sugar']\n",
            "True\n"
          ]
        }
      ]
    },
    {
      "cell_type": "code",
      "source": [
        "michael_bp = 175\n",
        "alice_bp = 175\n",
        "eve_bp = 140"
      ],
      "metadata": {
        "id": "u4cL_uNBWrdC"
      },
      "execution_count": null,
      "outputs": []
    },
    {
      "cell_type": "code",
      "source": [
        "michael_bp == alice_bp"
      ],
      "metadata": {
        "colab": {
          "base_uri": "https://localhost:8080/"
        },
        "id": "VuPOnWJWXC2q",
        "outputId": "5c56f234-4d45-485d-e80f-0a6ff6c72d16"
      },
      "execution_count": null,
      "outputs": [
        {
          "output_type": "execute_result",
          "data": {
            "text/plain": [
              "True"
            ]
          },
          "metadata": {},
          "execution_count": 7
        }
      ]
    },
    {
      "cell_type": "code",
      "source": [
        "michael_bp != alice_bp"
      ],
      "metadata": {
        "colab": {
          "base_uri": "https://localhost:8080/"
        },
        "id": "wnYqbwtRXNFp",
        "outputId": "531e6f9f-f224-4ba2-aa9f-a22438314293"
      },
      "execution_count": null,
      "outputs": [
        {
          "output_type": "execute_result",
          "data": {
            "text/plain": [
              "False"
            ]
          },
          "metadata": {},
          "execution_count": 8
        }
      ]
    },
    {
      "cell_type": "code",
      "source": [
        "michael_bp != eve_bp"
      ],
      "metadata": {
        "colab": {
          "base_uri": "https://localhost:8080/"
        },
        "id": "xbsGgADGXOyL",
        "outputId": "81c9d1ec-b58b-4779-c54a-c17299d0093e"
      },
      "execution_count": null,
      "outputs": [
        {
          "output_type": "execute_result",
          "data": {
            "text/plain": [
              "True"
            ]
          },
          "metadata": {},
          "execution_count": 9
        }
      ]
    },
    {
      "cell_type": "code",
      "source": [
        "michael_bp >= eve_bp"
      ],
      "metadata": {
        "colab": {
          "base_uri": "https://localhost:8080/"
        },
        "id": "ov3YmePdbNKA",
        "outputId": "56127645-df89-4da7-c80b-8fea2c5913e7"
      },
      "execution_count": null,
      "outputs": [
        {
          "output_type": "execute_result",
          "data": {
            "text/plain": [
              "True"
            ]
          },
          "metadata": {},
          "execution_count": 10
        }
      ]
    },
    {
      "cell_type": "code",
      "source": [
        "message = \"WARNING: Too High!\""
      ],
      "metadata": {
        "id": "Cz_mG2PSpH1g"
      },
      "execution_count": null,
      "outputs": []
    },
    {
      "cell_type": "code",
      "source": [
        "(\"WARNING\" in message) and (michael_bp >= eve_bp)"
      ],
      "metadata": {
        "colab": {
          "base_uri": "https://localhost:8080/"
        },
        "id": "srzhrxRtwQlQ",
        "outputId": "8185f893-3063-4df9-f9ce-d80fd97d5761"
      },
      "execution_count": null,
      "outputs": [
        {
          "output_type": "execute_result",
          "data": {
            "text/plain": [
              "True"
            ]
          },
          "metadata": {},
          "execution_count": 13
        }
      ]
    },
    {
      "cell_type": "code",
      "source": [
        "safe_max = 150\n",
        "safe_min = 80"
      ],
      "metadata": {
        "id": "d0ZmND_RweN-"
      },
      "execution_count": null,
      "outputs": []
    },
    {
      "cell_type": "code",
      "source": [
        "michael_bp < safe_max"
      ],
      "metadata": {
        "colab": {
          "base_uri": "https://localhost:8080/"
        },
        "id": "szVJZ2iNw5zO",
        "outputId": "0325df73-5170-4cc6-e48a-05c812c68146"
      },
      "execution_count": null,
      "outputs": [
        {
          "output_type": "execute_result",
          "data": {
            "text/plain": [
              "False"
            ]
          },
          "metadata": {},
          "execution_count": 15
        }
      ]
    },
    {
      "cell_type": "code",
      "source": [
        "eve_bp < safe_max"
      ],
      "metadata": {
        "colab": {
          "base_uri": "https://localhost:8080/"
        },
        "id": "7yJ_6gesw-2t",
        "outputId": "cf1f15d8-23e3-4e6e-c241-b95c25a34e88"
      },
      "execution_count": null,
      "outputs": [
        {
          "output_type": "execute_result",
          "data": {
            "text/plain": [
              "True"
            ]
          },
          "metadata": {},
          "execution_count": 16
        }
      ]
    },
    {
      "cell_type": "code",
      "source": [
        "(eve_bp < safe_max) or (michael_bp < safe_max)"
      ],
      "metadata": {
        "colab": {
          "base_uri": "https://localhost:8080/"
        },
        "id": "kKE1DoIQxC56",
        "outputId": "e3fa8ee2-32cb-4b51-a371-00976935a697"
      },
      "execution_count": null,
      "outputs": [
        {
          "output_type": "execute_result",
          "data": {
            "text/plain": [
              "True"
            ]
          },
          "metadata": {},
          "execution_count": 17
        }
      ]
    },
    {
      "cell_type": "code",
      "source": [
        "not (\"WARNING\" in message)"
      ],
      "metadata": {
        "colab": {
          "base_uri": "https://localhost:8080/"
        },
        "id": "_2Q6fKJwxKue",
        "outputId": "36c1059f-3a82-497d-84d7-c89c1c841067"
      },
      "execution_count": null,
      "outputs": [
        {
          "output_type": "execute_result",
          "data": {
            "text/plain": [
              "False"
            ]
          },
          "metadata": {},
          "execution_count": 18
        }
      ]
    },
    {
      "cell_type": "code",
      "source": [
        "\"WARNING\" not in message"
      ],
      "metadata": {
        "colab": {
          "base_uri": "https://localhost:8080/"
        },
        "id": "Xh9azvY3xTtX",
        "outputId": "518a4f50-04b9-402a-9677-2f0c9bf71983"
      },
      "execution_count": null,
      "outputs": [
        {
          "output_type": "execute_result",
          "data": {
            "text/plain": [
              "False"
            ]
          },
          "metadata": {},
          "execution_count": 19
        }
      ]
    },
    {
      "cell_type": "code",
      "source": [
        "if (\"WARNING\" in message) and (michael_bp > safe_max):\n",
        "    print(\"GO TO HOSPITAL\")\n",
        "else:\n",
        "    print(\"STAY AT HOME\")"
      ],
      "metadata": {
        "colab": {
          "base_uri": "https://localhost:8080/"
        },
        "id": "MqILFA4MxWQK",
        "outputId": "edd83c74-8011-440f-95f0-f69228daa927"
      },
      "execution_count": null,
      "outputs": [
        {
          "output_type": "stream",
          "name": "stdout",
          "text": [
            "GO TO HOSPITAL\n"
          ]
        }
      ]
    },
    {
      "cell_type": "code",
      "source": [
        "name = \"Kofi\"\n",
        "\n",
        "print(name)          # output the value of name\n",
        "print( id(name) )    # output the memory location of the value of name\n",
        "print( type(name) )  # output the type of the value of name\n",
        "print( len(name) )   # output the length of (the value of) name \n"
      ],
      "metadata": {
        "colab": {
          "base_uri": "https://localhost:8080/"
        },
        "id": "-Ja-WWVAxfu1",
        "outputId": "cbd8c35b-3492-48f4-b620-930483f26ee2"
      },
      "execution_count": null,
      "outputs": [
        {
          "output_type": "stream",
          "name": "stdout",
          "text": [
            "Kofi\n",
            "140520861574192\n",
            "<class 'str'>\n",
            "4\n"
          ]
        }
      ]
    },
    {
      "cell_type": "code",
      "source": [
        "# data.operation(requirements)\n",
        "# obj.method(parameters)\n",
        "# ask name to upper() itself \n",
        "# ask name if it startswith(M)\n",
        "\n",
        "print( name.upper()  )\n",
        "print( name.lower()   )\n",
        "print( name.startswith(\"K\") )\n",
        "print( name.endswith(\"K\") )\n",
        "\n",
        "# all data in python is an object\n",
        "# objects are data structures:  values (properties), types (class), id, methods"
      ],
      "metadata": {
        "colab": {
          "base_uri": "https://localhost:8080/"
        },
        "id": "T52Y4v6bxlvz",
        "outputId": "7511ef22-9736-4193-8580-7a22a4b6b18d"
      },
      "execution_count": null,
      "outputs": [
        {
          "output_type": "stream",
          "name": "stdout",
          "text": [
            "KOFI\n",
            "kofi\n",
            "True\n",
            "False\n"
          ]
        }
      ]
    },
    {
      "cell_type": "code",
      "source": [
        "dir(name)[-5:] # lists the last 5 attributes & methods of the object "
      ],
      "metadata": {
        "colab": {
          "base_uri": "https://localhost:8080/"
        },
        "id": "x2_Wd2b5x9Z1",
        "outputId": "2f96d95a-3476-4d33-afe3-1cd5b4da6c23"
      },
      "execution_count": null,
      "outputs": [
        {
          "output_type": "execute_result",
          "data": {
            "text/plain": [
              "['swapcase', 'title', 'translate', 'upper', 'zfill']"
            ]
          },
          "metadata": {},
          "execution_count": 23
        }
      ]
    },
    {
      "cell_type": "code",
      "source": [
        "name = \"shilp\"\n",
        "age = 10\n",
        "location = \"ocean\"\n",
        "\n",
        "print(name)\n",
        "print(age)\n",
        "print(location)\n",
        "print(name.upper())\n",
        "print(location.upper())\n",
        " \n",
        "  \n",
        "if (age  > 18 ):\n",
        "  print('----------')\n",
        "\n",
        "  \n",
        "                                        "
      ],
      "metadata": {
        "colab": {
          "base_uri": "https://localhost:8080/",
          "height": 235
        },
        "id": "nUxHhp9Kyl1E",
        "outputId": "ff9a8387-c351-48ff-e17f-8175580e7ecc"
      },
      "execution_count": null,
      "outputs": [
        {
          "output_type": "error",
          "ename": "TypeError",
          "evalue": "ignored",
          "traceback": [
            "\u001b[0;31m---------------------------------------------------------------------------\u001b[0m",
            "\u001b[0;31mTypeError\u001b[0m                                 Traceback (most recent call last)",
            "\u001b[0;32m<ipython-input-14-27f3e6b11656>\u001b[0m in \u001b[0;36m<module>\u001b[0;34m()\u001b[0m\n\u001b[1;32m      3\u001b[0m \u001b[0mlocation\u001b[0m \u001b[0;34m=\u001b[0m \u001b[0;34m\"ocean\"\u001b[0m\u001b[0;34m\u001b[0m\u001b[0;34m\u001b[0m\u001b[0m\n\u001b[1;32m      4\u001b[0m \u001b[0;34m\u001b[0m\u001b[0m\n\u001b[0;32m----> 5\u001b[0;31m \u001b[0mprint\u001b[0m\u001b[0;34m(\u001b[0m\u001b[0mname\u001b[0m\u001b[0;34m)\u001b[0m\u001b[0;34m\u001b[0m\u001b[0;34m\u001b[0m\u001b[0m\n\u001b[0m\u001b[1;32m      6\u001b[0m \u001b[0mprint\u001b[0m\u001b[0;34m(\u001b[0m\u001b[0mage\u001b[0m\u001b[0;34m)\u001b[0m\u001b[0;34m\u001b[0m\u001b[0;34m\u001b[0m\u001b[0m\n\u001b[1;32m      7\u001b[0m \u001b[0mprint\u001b[0m\u001b[0;34m(\u001b[0m\u001b[0mlocation\u001b[0m\u001b[0;34m)\u001b[0m\u001b[0;34m\u001b[0m\u001b[0;34m\u001b[0m\u001b[0m\n",
            "\u001b[0;31mTypeError\u001b[0m: 'tuple' object is not callable"
          ]
        }
      ]
    },
    {
      "cell_type": "code",
      "source": [
        "def error(pred, obv):\n",
        "    return (pred - obv) ** 2\n",
        "\n",
        "error(3, 3.3)"
      ],
      "metadata": {
        "colab": {
          "base_uri": "https://localhost:8080/"
        },
        "id": "LmYunOovz-P4",
        "outputId": "88984693-f376-41be-bcc3-3cd559174687"
      },
      "execution_count": null,
      "outputs": [
        {
          "output_type": "execute_result",
          "data": {
            "text/plain": [
              "0.0899999999999999"
            ]
          },
          "metadata": {},
          "execution_count": 25
        }
      ]
    },
    {
      "cell_type": "code",
      "source": [
        "def predict(age, height, parameters=(0.5, 0.5, 0)):\n",
        "    \"\"\"\n",
        "    Predict a weight (kg) from an age (yr), height (cm) and\n",
        "        parameters :\n",
        "            (age importance, height importance, base weight)\n",
        "    \"\"\"\n",
        "    # reset the scales so each goes from 0 to 1\n",
        "    age, height = age/100, height/200\n",
        "    \n",
        "    # extract the parameters for each variable\n",
        "    a, h, w = parameters\n",
        "    \n",
        "    # predict a weight\n",
        "    weight = 100 * (a * age + h * height + w)\n",
        "    \n",
        "    return round(weight, 2)"
      ],
      "metadata": {
        "id": "awh5BcbFKE35"
      },
      "execution_count": null,
      "outputs": []
    },
    {
      "cell_type": "code",
      "source": [
        "help(predict)"
      ],
      "metadata": {
        "colab": {
          "base_uri": "https://localhost:8080/"
        },
        "id": "5aoaoip4qqFO",
        "outputId": "2736a9d5-c53e-4e06-fc11-7f53343682aa"
      },
      "execution_count": null,
      "outputs": [
        {
          "output_type": "stream",
          "name": "stdout",
          "text": [
            "Help on function predict in module __main__:\n",
            "\n",
            "predict(age, height, parameters=(0.5, 0.5, 0))\n",
            "    Predict a weight (kg) from an age (yr), height (cm) and\n",
            "        parameters :\n",
            "            (age importance, height importance, base weight)\n",
            "\n"
          ]
        }
      ]
    },
    {
      "cell_type": "code",
      "source": [
        "predict(10, 150, (0.6, 0.4, 0.2)) # pass arguments by position"
      ],
      "metadata": {
        "colab": {
          "base_uri": "https://localhost:8080/"
        },
        "id": "Ja-PdtQPq2W0",
        "outputId": "f89b5961-e771-4f27-f589-a23e0d9ce956"
      },
      "execution_count": null,
      "outputs": [
        {
          "output_type": "execute_result",
          "data": {
            "text/plain": [
              "56.0"
            ]
          },
          "metadata": {},
          "execution_count": 17
        }
      ]
    },
    {
      "cell_type": "code",
      "source": [
        "predict(10, 150) # pass arguments by position, one by default"
      ],
      "metadata": {
        "colab": {
          "base_uri": "https://localhost:8080/"
        },
        "id": "hLboJ1rLr4Hk",
        "outputId": "0f8d10a0-67c6-42d3-d801-175353cfcf2b"
      },
      "execution_count": null,
      "outputs": [
        {
          "output_type": "execute_result",
          "data": {
            "text/plain": [
              "42.5"
            ]
          },
          "metadata": {},
          "execution_count": 18
        }
      ]
    },
    {
      "cell_type": "code",
      "source": [
        "predict(age=10, height=150) # pass by name\n",
        "\n"
      ],
      "metadata": {
        "colab": {
          "base_uri": "https://localhost:8080/"
        },
        "id": "DXy0xnNgr8k8",
        "outputId": "0fbc36e0-0b81-4603-9905-d40e56bee539"
      },
      "execution_count": null,
      "outputs": [
        {
          "output_type": "execute_result",
          "data": {
            "text/plain": [
              "42.5"
            ]
          },
          "metadata": {},
          "execution_count": 19
        }
      ]
    },
    {
      "cell_type": "code",
      "source": [
        "# functions = procedures\n",
        "# can also not return anything\n",
        "\n",
        "def show_results(results):\n",
        "    print(\"-\" * 10)\n",
        "    print(results)\n",
        "    print(\"-\" * 10)\n",
        "    \n",
        "show_results([12, 12, 15])   # writes to screen, but has no return value\n",
        "\n",
        "def distance(x1, x2):\n",
        "    return (x2 - x1) ** 2   # euclidean distance, aka. L2 norm\n",
        "    \n",
        "\n",
        "dist = distance(10, 12)\n",
        "print(dist * 1.1)  # calculated value can be stored in variable\n",
        "\n",
        "\n",
        "rtn = show_results([10, 12])\n",
        "\n",
        "print(type(rtn))\n",
        "print(rtn) # nothing is stored here, no return value"
      ],
      "metadata": {
        "colab": {
          "base_uri": "https://localhost:8080/",
          "height": 356
        },
        "id": "fwsZ7b0asLFK",
        "outputId": "743e7825-2c44-4884-df27-530e96a2b8be"
      },
      "execution_count": null,
      "outputs": [
        {
          "output_type": "error",
          "ename": "TypeError",
          "evalue": "ignored",
          "traceback": [
            "\u001b[0;31m---------------------------------------------------------------------------\u001b[0m",
            "\u001b[0;31mTypeError\u001b[0m                                 Traceback (most recent call last)",
            "\u001b[0;32m<ipython-input-21-fd850e48f7ed>\u001b[0m in \u001b[0;36m<module>\u001b[0;34m()\u001b[0m\n\u001b[1;32m      7\u001b[0m     \u001b[0mprint\u001b[0m\u001b[0;34m(\u001b[0m\u001b[0;34m\"-\"\u001b[0m \u001b[0;34m*\u001b[0m \u001b[0;36m10\u001b[0m\u001b[0;34m)\u001b[0m\u001b[0;34m\u001b[0m\u001b[0;34m\u001b[0m\u001b[0m\n\u001b[1;32m      8\u001b[0m \u001b[0;34m\u001b[0m\u001b[0m\n\u001b[0;32m----> 9\u001b[0;31m \u001b[0mshow_results\u001b[0m\u001b[0;34m(\u001b[0m\u001b[0;34m[\u001b[0m\u001b[0;36m12\u001b[0m\u001b[0;34m,\u001b[0m \u001b[0;36m12\u001b[0m\u001b[0;34m,\u001b[0m \u001b[0;36m15\u001b[0m\u001b[0;34m]\u001b[0m\u001b[0;34m)\u001b[0m   \u001b[0;31m# writes to screen, but has no return value\u001b[0m\u001b[0;34m\u001b[0m\u001b[0;34m\u001b[0m\u001b[0m\n\u001b[0m\u001b[1;32m     10\u001b[0m \u001b[0;34m\u001b[0m\u001b[0m\n\u001b[1;32m     11\u001b[0m \u001b[0;32mdef\u001b[0m \u001b[0mdistance\u001b[0m\u001b[0;34m(\u001b[0m\u001b[0mx1\u001b[0m\u001b[0;34m,\u001b[0m \u001b[0mx2\u001b[0m\u001b[0;34m)\u001b[0m\u001b[0;34m:\u001b[0m\u001b[0;34m\u001b[0m\u001b[0;34m\u001b[0m\u001b[0m\n",
            "\u001b[0;32m<ipython-input-21-fd850e48f7ed>\u001b[0m in \u001b[0;36mshow_results\u001b[0;34m(results)\u001b[0m\n\u001b[1;32m      3\u001b[0m \u001b[0;34m\u001b[0m\u001b[0m\n\u001b[1;32m      4\u001b[0m \u001b[0;32mdef\u001b[0m \u001b[0mshow_results\u001b[0m\u001b[0;34m(\u001b[0m\u001b[0mresults\u001b[0m\u001b[0;34m)\u001b[0m\u001b[0;34m:\u001b[0m\u001b[0;34m\u001b[0m\u001b[0;34m\u001b[0m\u001b[0m\n\u001b[0;32m----> 5\u001b[0;31m     \u001b[0mprint\u001b[0m\u001b[0;34m(\u001b[0m\u001b[0;34m\"-\"\u001b[0m \u001b[0;34m*\u001b[0m \u001b[0;36m10\u001b[0m\u001b[0;34m)\u001b[0m\u001b[0;34m\u001b[0m\u001b[0;34m\u001b[0m\u001b[0m\n\u001b[0m\u001b[1;32m      6\u001b[0m     \u001b[0mprint\u001b[0m\u001b[0;34m(\u001b[0m\u001b[0mresults\u001b[0m\u001b[0;34m)\u001b[0m\u001b[0;34m\u001b[0m\u001b[0;34m\u001b[0m\u001b[0m\n\u001b[1;32m      7\u001b[0m     \u001b[0mprint\u001b[0m\u001b[0;34m(\u001b[0m\u001b[0;34m\"-\"\u001b[0m \u001b[0;34m*\u001b[0m \u001b[0;36m10\u001b[0m\u001b[0;34m)\u001b[0m\u001b[0;34m\u001b[0m\u001b[0;34m\u001b[0m\u001b[0m\n",
            "\u001b[0;31mTypeError\u001b[0m: 'tuple' object is not callable"
          ]
        }
      ]
    },
    {
      "cell_type": "code",
      "source": [
        "def mean(x, y, z):\n",
        "    return (x + y + z)/3\n",
        "\n",
        "def cube(x):\n",
        "    return x ** 3\n",
        "\n",
        "def is_adult(age):\n",
        "    return age >= 18\n",
        "\n",
        "\n",
        "def show(m, c, a):\n",
        "    print(\"mean:\", m)\n",
        "    print(\"cube:\", c)\n",
        "    print(\"age:\", a)\n",
        "    \n",
        "mean_ages = mean(18,18,20)\n",
        "two_late = cube(2)\n",
        "teen = is_adult(15)\n",
        "\n",
        "show(mean_ages, two_late, teen)"
      ],
      "metadata": {
        "id": "qwAvb0A7syP-"
      },
      "execution_count": null,
      "outputs": []
    },
    {
      "cell_type": "code",
      "source": [
        "# strings\n",
        "\n",
        "quote = \"Be the change you wish to see in the world!\"\n",
        "\n",
        "print( quote[0] )   # first\n",
        "print( quote[1] )   # second\n",
        "print( quote[-2] )  # second from last\n",
        "print( quote[-1] )  # last"
      ],
      "metadata": {
        "id": "h8MnMTqXs9TF"
      },
      "execution_count": null,
      "outputs": []
    },
    {
      "cell_type": "code",
      "source": [
        "print( quote[0:2] )  # zero until postn-2"
      ],
      "metadata": {
        "id": "FBnotvcGtDNz"
      },
      "execution_count": null,
      "outputs": []
    },
    {
      "cell_type": "code",
      "source": [
        "print( quote[0:-6] ) # beginning until -6th postn"
      ],
      "metadata": {
        "id": "1i75a0LxtEe3"
      },
      "execution_count": null,
      "outputs": []
    },
    {
      "cell_type": "code",
      "source": [
        "print( quote[0:-6]  + \" bed\" )"
      ],
      "metadata": {
        "id": "TmrN2ZkatK2K"
      },
      "execution_count": null,
      "outputs": []
    },
    {
      "cell_type": "code",
      "source": [
        "print(quote[:2])    # leave off start postn = zero\n",
        "print(quote[-6:] )  # leave off end postn = end of string"
      ],
      "metadata": {
        "id": "xsoWt4svtPGz"
      },
      "execution_count": null,
      "outputs": []
    },
    {
      "cell_type": "code",
      "source": [
        "# tuple\n",
        "\n",
        "point = (10, 20, 30)\n",
        "\n",
        "print( point[0] )\n",
        "print( point[1] )\n",
        "print( point[-1] )\n",
        "\n",
        "print( point[0:2] ) #slice, as with strings\n",
        "\n",
        "# point[0] = 15 # error: not allowed to overwrite\n",
        "\n",
        "# technically, () not required...\n",
        "\n",
        "address = \"OldSt\", \"London\"\n",
        "\n",
        "print(address)"
      ],
      "metadata": {
        "id": "Rqb6elrVtTQS"
      },
      "execution_count": null,
      "outputs": []
    },
    {
      "cell_type": "code",
      "source": [
        "# lists\n",
        "# y target customer satisfaction\n",
        "# x customer features \n",
        "# (days-since-first-purchase, total-spent, nearest-store, addresss)\n",
        "#  \n",
        "\n",
        "x = [300, 1000, \"London\", (\"Old Street\", \"London\")]\n",
        "\n",
        "print(x)\n",
        "print(len(x))\n",
        "\n",
        "print(x[-1])\n",
        "print(len(x[-1]))"
      ],
      "metadata": {
        "id": "TRvxHx00tYaU"
      },
      "execution_count": null,
      "outputs": []
    },
    {
      "cell_type": "code",
      "source": [
        "x.append(1)\n",
        "x"
      ],
      "metadata": {
        "id": "kN2xjCbztd6B"
      },
      "execution_count": null,
      "outputs": []
    },
    {
      "cell_type": "code",
      "source": [
        "x.pop()"
      ],
      "metadata": {
        "id": "6kqunYgRtjkS"
      },
      "execution_count": null,
      "outputs": []
    },
    {
      "cell_type": "code",
      "source": [
        "print(x)\n",
        "x.insert(0, 1) # insert at postn 0, the element 1\n",
        "\n",
        "print(x)"
      ],
      "metadata": {
        "id": "nEyZyvhotm4z"
      },
      "execution_count": null,
      "outputs": []
    },
    {
      "cell_type": "code",
      "source": [
        "def error(y_pred, y, i):\n",
        "    return (y_pred - y[i]) ** 2"
      ],
      "metadata": {
        "id": "oTPnmIAGtqpx"
      },
      "execution_count": null,
      "outputs": []
    },
    {
      "cell_type": "code",
      "source": [
        "y = [2, 3, 5, 8]\n",
        "guess = 2.2\n",
        "\n",
        "error(guess, y, 1)   #   (2.2 - 3) ** 2"
      ],
      "metadata": {
        "id": "1EHWVVKHtx9j"
      },
      "execution_count": null,
      "outputs": []
    },
    {
      "cell_type": "code",
      "source": [
        "user = {\n",
        "    \"name\": \"kofi\",\n",
        "    \"age\": 41,\n",
        "    \"location\": \"uk\"\n",
        "}\n",
        "\n",
        "print(user[\"name\"])     # use string keys to look up value rather than int index\n",
        "print(user[\"age\"])\n",
        "print(user[\"location\"])"
      ],
      "metadata": {
        "id": "YoTmb5cDt1Tp"
      },
      "execution_count": null,
      "outputs": []
    },
    {
      "cell_type": "code",
      "source": [
        "# data science example: labelling for Fraud|NotFraud\n",
        "# dict keys can be lots of diff. thigns, not just strings...\n",
        "# but must be unique!\n",
        "# key = (age, days-since-purchase-of-insurance)  \n",
        "user = {\n",
        "    (18, 13) : \"Fraud\",\n",
        "    (60, 300) : \"NotFraud\"\n",
        "}\n",
        "\n",
        "user[(18, 13)]"
      ],
      "metadata": {
        "id": "du1NuHl_uAMF"
      },
      "execution_count": null,
      "outputs": []
    },
    {
      "cell_type": "code",
      "source": [
        "# dictionaries more commonly are more like matrices...\n",
        "users = {\n",
        "    \"age-at-purchase\": [18, 60],\n",
        "    \"days-from-purcahse\": [13, 300]\n",
        "}\n",
        "\n",
        "ages = users['age-at-purchase']\n",
        "\n",
        "sum(ages)/len(ages)"
      ],
      "metadata": {
        "id": "r1yGP0ViuEc4"
      },
      "execution_count": null,
      "outputs": []
    },
    {
      "cell_type": "code",
      "source": [
        "user_age = 18\n",
        "\n",
        "if user_age > 65:                      # colons\n",
        "    print(\"See Retirement Plans\")      # indentation\n",
        "elif user_age > 21:                    # keyword, elif\n",
        "    print(\"See Vocation Plans\")\n",
        "elif user_age > 13:\n",
        "    print(\"See Education Plans\")\n",
        "else:\n",
        "    print(\"See your mother!\")\n",
        "    "
      ],
      "metadata": {
        "id": "JNRmI5xyuJVF"
      },
      "execution_count": null,
      "outputs": []
    },
    {
      "cell_type": "code",
      "source": [
        "# while loops are rare, usually bad -- repeating\n",
        "\n",
        "ratings = [5,5,6,7,8,1]\n",
        "\n",
        "while len(ratings) > 0:\n",
        "    print(ratings.pop())    # remove last one"
      ],
      "metadata": {
        "id": "QgAtJHsYuTYE"
      },
      "execution_count": null,
      "outputs": []
    },
    {
      "cell_type": "code",
      "source": [
        ""
      ],
      "metadata": {
        "id": "CUKOBxeEuav0"
      },
      "execution_count": null,
      "outputs": []
    },
    {
      "cell_type": "code",
      "source": [
        ""
      ],
      "metadata": {
        "id": "tyjNkza5ufVi"
      },
      "execution_count": null,
      "outputs": []
    },
    {
      "cell_type": "code",
      "source": [
        "ratings"
      ],
      "metadata": {
        "id": "OIIZRSAUuXER"
      },
      "execution_count": null,
      "outputs": []
    },
    {
      "cell_type": "code",
      "source": [
        "# for loop -- data processing loop\n",
        "\n",
        "ratings = [5,5,6,7,8,1]\n",
        "\n",
        "for element in ratings:      # for name-of-each-element  in source-data-input\n",
        "    print(element)           # algorithm for processing each-element\n",
        "    \n",
        "ratings"
      ],
      "metadata": {
        "id": "05OR9YOYuhFh"
      },
      "execution_count": null,
      "outputs": []
    },
    {
      "cell_type": "code",
      "source": [
        "bp = float(input(\"BP?\"))\n",
        "hr = float(input(\"HR?\"))\n",
        "\n",
        "if (bp > 200) or (hr > 200):\n",
        "    print(\"WARNING\")\n",
        "elif (bp > 150) and (hr > 170):\n",
        "    print(\"WARNING\")\n",
        "elif (bp < 100) and (hr < 40):\n",
        "    print(\"WARNING\")\n",
        "else:\n",
        "    print(\"OK!\")"
      ],
      "metadata": {
        "id": "QdOXvqumulcL"
      },
      "execution_count": null,
      "outputs": []
    },
    {
      "cell_type": "code",
      "source": [
        "feeling = input(\"How do you feel? \")"
      ],
      "metadata": {
        "id": "7NnGk-Pkusej"
      },
      "execution_count": null,
      "outputs": []
    },
    {
      "cell_type": "code",
      "source": [
        "if (\"sad\" in feeling) or (feeling.endswith(\"!?\")):\n",
        "    print(\"try some exercise!\")\n",
        "elif (\"happy\" in feeling) or (feeling.endswith(\"!\")):\n",
        "    print(\"try relaxing\")\n",
        "else:\n",
        "    print(\"not possible to offer advice\")"
      ],
      "metadata": {
        "id": "clFkDFGmuwei"
      },
      "execution_count": null,
      "outputs": []
    },
    {
      "cell_type": "code",
      "source": [
        "hrs = [60, 70, 80]\n",
        "bps = [100, 200, 250]"
      ],
      "metadata": {
        "id": "T-Pzmumsu1eh"
      },
      "execution_count": null,
      "outputs": []
    },
    {
      "cell_type": "code",
      "source": [
        "bundled = list(zip(hrs, bps))\n",
        "bundled"
      ],
      "metadata": {
        "id": "V4N4o7guvLAZ"
      },
      "execution_count": null,
      "outputs": []
    },
    {
      "cell_type": "code",
      "source": [
        "for hr, bp in zip(hrs, bps):\n",
        "    print(hr, bp)"
      ],
      "metadata": {
        "id": "6dNqGLA_vOME"
      },
      "execution_count": null,
      "outputs": []
    },
    {
      "cell_type": "code",
      "source": [
        "for hr, bp in zip(hrs, bps):\n",
        "    print(\"We measured: \", hr, \"bpm\")\n",
        "    print(\"We measured: \", bp, \"mmHg\")\n",
        "    \n",
        "    if (hr > 200) or (bp > 200):\n",
        "        print(\"WARNING\")\n",
        "    else:\n",
        "        print(\"OK\")\n",
        "        \n",
        "    print() # prints an empty line"
      ],
      "metadata": {
        "id": "lubj0sQZvSyV"
      },
      "execution_count": null,
      "outputs": []
    },
    {
      "cell_type": "code",
      "source": [
        "list(range(0, 100, 20))"
      ],
      "metadata": {
        "id": "4Pmw7xAhvXaG"
      },
      "execution_count": null,
      "outputs": []
    },
    {
      "cell_type": "code",
      "source": [
        "for i in range(0, 100, 20):\n",
        "    print(i)"
      ],
      "metadata": {
        "id": "dAw3hbaAvdCL"
      },
      "execution_count": null,
      "outputs": []
    },
    {
      "cell_type": "code",
      "source": [
        "predicted_hr = []\n",
        "\n",
        "for hr in range(60, 180, 10):\n",
        "    predicted_hr.append(0.9 * hr + 1)\n",
        "    \n",
        "predicted_hr"
      ],
      "metadata": {
        "id": "rLWN1DqqvgVL"
      },
      "execution_count": null,
      "outputs": []
    },
    {
      "cell_type": "code",
      "source": [
        "hr_readings = [70,50,60,80]"
      ],
      "metadata": {
        "id": "rL0lrBHfvkJh"
      },
      "execution_count": null,
      "outputs": []
    },
    {
      "cell_type": "code",
      "source": [
        "for hr in hr_readings:\n",
        "    print(hr)"
      ],
      "metadata": {
        "id": "CSfr5NYdvoYB"
      },
      "execution_count": null,
      "outputs": []
    },
    {
      "cell_type": "code",
      "source": [
        "for i, hr in enumerate(hr_readings):\n",
        "    print(f\"Reading {i + 1} was {hr} bpm\")"
      ],
      "metadata": {
        "id": "ScyhGPItvr15"
      },
      "execution_count": null,
      "outputs": []
    },
    {
      "cell_type": "code",
      "source": [
        "# iterators -- like data structures, but whole data not stored...\n",
        "\n",
        "ten = range(0, 10)\n",
        "\n",
        "print(ten)"
      ],
      "metadata": {
        "id": "Fq8XG2_1vvHx"
      },
      "execution_count": null,
      "outputs": []
    },
    {
      "cell_type": "code",
      "source": [
        "for i in ten:      # the range gives a number each go around\n",
        "    print(i)"
      ],
      "metadata": {
        "id": "mPKgi9yWv2Ka"
      },
      "execution_count": null,
      "outputs": []
    },
    {
      "cell_type": "code",
      "source": [
        "numbers = list(ten) # collects all data from ten into list, which stores all in memory\n",
        "\n",
        "numbers"
      ],
      "metadata": {
        "id": "hClwqEr-v66q"
      },
      "execution_count": null,
      "outputs": []
    },
    {
      "cell_type": "code",
      "source": [
        "age = \"18\"\n",
        "\n",
        "age < 20"
      ],
      "metadata": {
        "id": "Cd_cM36sv_dh"
      },
      "execution_count": null,
      "outputs": []
    },
    {
      "cell_type": "code",
      "source": [
        "int(age) < 20"
      ],
      "metadata": {
        "id": "mYa_zrdhwEWJ"
      },
      "execution_count": null,
      "outputs": []
    },
    {
      "cell_type": "code",
      "source": [
        "str(5) * 2  # \"5\" * 2"
      ],
      "metadata": {
        "id": "CUCPa06iwHcL"
      },
      "execution_count": null,
      "outputs": []
    },
    {
      "cell_type": "code",
      "source": [
        "dict( [ (\"name\", \"Michael\"), (\"age\", 29 )])"
      ],
      "metadata": {
        "id": "yqPQqvtDwSbN"
      },
      "execution_count": null,
      "outputs": []
    }
  ]
}