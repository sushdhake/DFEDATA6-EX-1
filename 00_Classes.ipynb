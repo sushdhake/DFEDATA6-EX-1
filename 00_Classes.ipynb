{
  "nbformat": 4,
  "nbformat_minor": 0,
  "metadata": {
    "colab": {
      "name": "00 Classes.ipynb",
      "provenance": [],
      "authorship_tag": "ABX9TyMU+bFQ7G6wuD/qEAlgA3VZ",
      "include_colab_link": true
    },
    "kernelspec": {
      "name": "python3",
      "display_name": "Python 3"
    },
    "language_info": {
      "name": "python"
    }
  },
  "cells": [
    {
      "cell_type": "markdown",
      "metadata": {
        "id": "view-in-github",
        "colab_type": "text"
      },
      "source": [
        "<a href=\"https://colab.research.google.com/github/sushdhake/DFEDATA6-EX-1/blob/master/00_Classes.ipynb\" target=\"_parent\"><img src=\"https://colab.research.google.com/assets/colab-badge.svg\" alt=\"Open In Colab\"/></a>"
      ]
    },
    {
      "cell_type": "code",
      "source": [
        "# Geographic point-> lati, long\n",
        "# a,b -> remember 2 names; operate on 2 names\n",
        "# CLASS \n",
        "\n",
        "# functional-> functions\n",
        "# how to do things\n",
        "# 1. Switch on the fan _ def fan_on():\n",
        "# 2. change the speed def change_speed():\n",
        "# 3. switch off the fan def fan_off():\n",
        "\n",
        "# Objected oriented-> classes \n",
        "# IDENTIFY-> NOUN, VERBS\n",
        "# CLASS FAN-> can perform 3 functions\n",
        "# class Fan:\n",
        "# def switch_on, change_speed, switch_off\n",
        "# Fan f1; f1.on()."
      ],
      "metadata": {
        "id": "svhufC4W0yPH"
      },
      "execution_count": null,
      "outputs": []
    },
    {
      "cell_type": "code",
      "execution_count": 2,
      "metadata": {
        "id": "qnm4bEWvoGw7"
      },
      "outputs": [],
      "source": [
        "# OBJECTS\n",
        "class Human:\n",
        "  def speak (this):\n",
        "    print ('bye bye')\n",
        "  def jump (this):\n",
        "    return \"i jumped. Bye bye.\"  \n",
        "  def eat (this, food):\n",
        "     return food-1  "
      ]
    },
    {
      "cell_type": "code",
      "source": [
        "# linear sequence\n",
        "# Fibonacci \n",
        "# -1 1\n",
        "#0 - first\n",
        "# 1\n",
        "# 1, 2, 3, 5, 8, 13......."
      ],
      "metadata": {
        "id": "eZBcKIKgrtaa"
      },
      "execution_count": 3,
      "outputs": []
    },
    {
      "cell_type": "code",
      "source": [
        "class Printer:\n",
        "  def hello(self):\n",
        "    print(\"hello world\")\n",
        "  def bye(self, randomtext):\n",
        "    print(randomtext)"
      ],
      "metadata": {
        "id": "ei8VJthI0Ce5"
      },
      "execution_count": 4,
      "outputs": []
    },
    {
      "cell_type": "code",
      "source": [
        "myprinter = Printer()\n",
        "myprinter.hello()"
      ],
      "metadata": {
        "colab": {
          "base_uri": "https://localhost:8080/"
        },
        "id": "bpAN54PF0ZUi",
        "outputId": "52e90f9d-31ae-45ee-a4ce-8d4879ea8cbf"
      },
      "execution_count": 5,
      "outputs": [
        {
          "output_type": "stream",
          "name": "stdout",
          "text": [
            "hello world\n"
          ]
        }
      ]
    },
    {
      "cell_type": "code",
      "source": [
        "myprinter.bye(\"tada\")"
      ],
      "metadata": {
        "colab": {
          "base_uri": "https://localhost:8080/"
        },
        "id": "6krTo6uk0gDI",
        "outputId": "173959c9-33a8-41cc-f8f4-a716138dfd75"
      },
      "execution_count": 6,
      "outputs": [
        {
          "output_type": "stream",
          "name": "stdout",
          "text": [
            "tada\n"
          ]
        }
      ]
    },
    {
      "cell_type": "code",
      "source": [
        "#Human-> 1 nose\n",
        "# 3 noses;\n",
        "class Human:\n",
        "  def __init__(self): # called automatically \n",
        "    self.noseCount = 1\n",
        "    self.tailCount = 0\n",
        "  def getLimbCount(self):\n",
        "    print('Nose count = ' + str(self.noseCount))\n",
        "    print('Tail count = ' + str(self.tailCount))"
      ],
      "metadata": {
        "id": "3Q9g2SvQ08G6"
      },
      "execution_count": null,
      "outputs": []
    },
    {
      "cell_type": "code",
      "source": [
        "john = Human()"
      ],
      "metadata": {
        "id": "3XttkLLw1DVh"
      },
      "execution_count": null,
      "outputs": []
    },
    {
      "cell_type": "code",
      "source": [
        "print(dir(john))"
      ],
      "metadata": {
        "id": "qbJInKkv1cxI"
      },
      "execution_count": null,
      "outputs": []
    },
    {
      "cell_type": "markdown",
      "source": [
        "['__class__', '__delattr__', '__dict__', '__dir__', '__doc__', '__eq__', '__format__', '__ge__', '__getattribute__', '__gt__', '__hash__', '__init__', '__init_subclass__', '__le__', '__lt__', '__module__', '__ne__', '__new__', '__reduce__', '__reduce_ex__', '__repr__', '__setattr__', '__sizeof__', '__str__', '__subclasshook__', '__weakref__', 'getLimbCount', 'noseCount', 'tailCount']"
      ],
      "metadata": {
        "id": "ZSTu3-HO1sKL"
      }
    },
    {
      "cell_type": "code",
      "source": [
        "john.getLimbCount()"
      ],
      "metadata": {
        "id": "tqDdxEDL1i1g"
      },
      "execution_count": null,
      "outputs": []
    },
    {
      "cell_type": "markdown",
      "source": [
        "Nose count = 1\n",
        "Tail count = 0"
      ],
      "metadata": {
        "id": "KOiP_1EP12lv"
      }
    },
    {
      "cell_type": "code",
      "source": [
        "%%writefile script.py\n",
        "class LinearSeries:\n",
        "  def __iter__(self):\n",
        "    self.num = 1 # starting point\n",
        "    return self\n",
        "  def __next__(self):\n",
        "    self.num = self.num + 1 # how to calculate the next element\n",
        "    return self.num"
      ],
      "metadata": {
        "id": "RwjwxI0l19Iy"
      },
      "execution_count": null,
      "outputs": []
    },
    {
      "cell_type": "markdown",
      "source": [
        "Writing script.py"
      ],
      "metadata": {
        "id": "b863arAa2BTw"
      }
    },
    {
      "cell_type": "code",
      "source": [
        "# Iterators\n",
        "class LinearSeries:\n",
        "  def __iter__(self):\n",
        "    self.num = 0 # starting point\n",
        "    return self\n",
        "  def __next__(self):\n",
        "    self.num = self.num + 1 # how to calculate the next element\n",
        "    return self.num"
      ],
      "metadata": {
        "id": "YrAUXe4g2EsI"
      },
      "execution_count": null,
      "outputs": []
    },
    {
      "cell_type": "code",
      "source": [
        "%%writefile -a script.py\n",
        "myseries = LinearSeries()\n",
        "randompointer = iter(myseries)\n",
        "# the starting point of series"
      ],
      "metadata": {
        "id": "yC3g5-CI2JOh"
      },
      "execution_count": null,
      "outputs": []
    },
    {
      "cell_type": "markdown",
      "source": [
        "Appending to script.py"
      ],
      "metadata": {
        "id": "1XDqp1Kg2RCw"
      }
    },
    {
      "cell_type": "code",
      "source": [
        "next(randompointer)"
      ],
      "metadata": {
        "id": "6KTvRZpb2UVB"
      },
      "execution_count": null,
      "outputs": []
    },
    {
      "cell_type": "markdown",
      "source": [
        "1"
      ],
      "metadata": {
        "id": "wzAFS4Hj2gT5"
      }
    },
    {
      "cell_type": "code",
      "source": [
        "next(randompointer)"
      ],
      "metadata": {
        "id": "_4cAuTI52YLQ"
      },
      "execution_count": null,
      "outputs": []
    },
    {
      "cell_type": "markdown",
      "source": [
        "2"
      ],
      "metadata": {
        "id": "P3vhTv7s2ihw"
      }
    },
    {
      "cell_type": "code",
      "source": [
        "next(randompointer)"
      ],
      "metadata": {
        "id": "AmChQfn92ufw"
      },
      "execution_count": null,
      "outputs": []
    },
    {
      "cell_type": "markdown",
      "source": [
        "3"
      ],
      "metadata": {
        "id": "x7QXjv7l2yN3"
      }
    },
    {
      "cell_type": "code",
      "source": [
        "%%writefile -a script.py\n",
        "for i in range(10):\n",
        "  print(next(randompointer))"
      ],
      "metadata": {
        "id": "sGyplVmS20E6"
      },
      "execution_count": null,
      "outputs": []
    },
    {
      "cell_type": "markdown",
      "source": [
        "Appending to script.py"
      ],
      "metadata": {
        "id": "n6LBckKG2-c5"
      }
    },
    {
      "cell_type": "code",
      "source": [
        "# Website-> COlab,...notebook, VS, Anaconda\n",
        "# front end"
      ],
      "metadata": {
        "id": "T0HYB_Sg3C8g"
      },
      "execution_count": null,
      "outputs": []
    },
    {
      "cell_type": "code",
      "source": [
        "# every_element = sum of previous two elements\n",
        "class Fibonacci:\n",
        "  def __iter__(self):\n",
        "    self.first = -1\n",
        "    self.second = 1\n",
        "    return self\n",
        "  def __next__(self):\n",
        "    self.third = self.first + self.second\n",
        "    self.first = self.second\n",
        "    self.second = self.third\n",
        "    return self.third\n",
        "    # -1 + 1 = 0\n",
        "    # next-> +1 + 0"
      ],
      "metadata": {
        "id": "I2LCDVG_3GtZ"
      },
      "execution_count": null,
      "outputs": []
    },
    {
      "cell_type": "code",
      "source": [
        "myseries = Fibonacci()\n",
        "mynums = iter(myseries)\n",
        "for i in range(10):\n",
        "  print(next(mynums))"
      ],
      "metadata": {
        "id": "i17QIgyo3NuI"
      },
      "execution_count": null,
      "outputs": []
    },
    {
      "cell_type": "markdown",
      "source": [
        "0\n",
        "1\n",
        "1\n",
        "2\n",
        "3\n",
        "5\n",
        "8\n",
        "13\n",
        "21\n",
        "34"
      ],
      "metadata": {
        "id": "HVtsL2FQ3R8U"
      }
    },
    {
      "cell_type": "code",
      "source": [
        "# first second third\n",
        "# -1      1       0\n",
        "# 1       0       1\n",
        "#. 0      1       1\n",
        "# 1        1      2\n",
        "#. ...."
      ],
      "metadata": {
        "id": "aHy0qqrp3amT"
      },
      "execution_count": null,
      "outputs": []
    }
  ]
}