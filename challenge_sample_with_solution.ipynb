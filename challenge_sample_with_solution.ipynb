{
  "nbformat": 4,
  "nbformat_minor": 0,
  "metadata": {
    "colab": {
      "name": "challenge sample with solution.ipynb",
      "provenance": [],
      "authorship_tag": "ABX9TyP/XC3nOMLYOEKbCXqW8vuI",
      "include_colab_link": true
    },
    "kernelspec": {
      "name": "python3",
      "display_name": "Python 3"
    },
    "language_info": {
      "name": "python"
    }
  },
  "cells": [
    {
      "cell_type": "markdown",
      "metadata": {
        "id": "view-in-github",
        "colab_type": "text"
      },
      "source": [
        "<a href=\"https://colab.research.google.com/github/sushdhake/DFEDATA6-EX-1/blob/master/challenge_sample_with_solution.ipynb\" target=\"_parent\"><img src=\"https://colab.research.google.com/assets/colab-badge.svg\" alt=\"Open In Colab\"/></a>"
      ]
    },
    {
      "cell_type": "code",
      "source": [
        "import string\n",
        "data = 'Jack and jill were walking up the hill on the way to the Supermarket to get some mineral water when Jack tripped over a pothole in the road.He fell down and broke his smartphone.    \"Oh dear!\" said jack;actually,he didn’t say \"Oh dear\",he used some words that Jill was sure his mother wouldn’t approve of and went on to make some descriptive comments on what he thought of the state of the roads leading up the hill.jill was so shocked that she didn’t look where she was going and fell down,too, tumbling all the way down the hill;  jack got up and went home to mend his phone.    jill suggested using her granny’s remedy of vinegar and brown paper to fix the phone; Jack replied with a comment that got him grounded for a week during which time he repaired his phone with duct tape and superglue but it was never the same again .'\n",
        "\n",
        "data = ('Jack and jill were walking up the hill on the way to the Supermarket to get some mineral water' \n",
        "+ ' when Jack tripped over a pothole in the road.He fell down and broke his smartphone.    \"Oh dear!\" said jack'\n",
        "+ ';actually,,he didn’t say \"Oh dear\",he used some words that Jill was sure his mother wouldn’t approve of and '\n",
        "+ 'went on to make some descriptive comments on what he thought of the state of the roads leading up the hill.'\n",
        "+ 'jill was so shocked that she didn’t look where she was going and fell down,too, tumbling all the way down the '\n",
        "+ 'hill;  jack got up and went home to mend his phone..    jill suggested using her granny’s remedy of vinegar and '\n",
        "+ 'brown paper to fix the phone; Jack replied with a comment that got him grounded for a week during which time he '\n",
        "+ 'repaired his phone with duct tape and superglue but it was never the same again .')\n",
        "\n"
      ],
      "metadata": {
        "id": "4OgKVfYjK1oS"
      },
      "execution_count": 1,
      "outputs": []
    },
    {
      "cell_type": "code",
      "source": [
        "## #################################################################\n",
        "## checking and fixing speech marks/single quotes has been removed\n",
        "## as being too complex for this level. Below is an example of \n",
        "## checking but not fixing. \n",
        "####################################################################\n",
        "def check_quotes(text):\n",
        "    speech_mark = '\"'\n",
        "    single_quote = \"'\"\n",
        "    while True: \n",
        "        srch_result = quotes_match(text, speech_mark, single_quote)\n",
        "        if srch_result[0] == True:\n",
        "            if len(srch_result[1]) == 0:\n",
        "                break\n",
        "            else:\n",
        "                text = srch_result[1]\n",
        "        else:\n",
        "            raise Exception(\"Quotation marks do not match\")\n",
        "            "
      ],
      "metadata": {
        "id": "1Qol4mUqPltg"
      },
      "execution_count": 2,
      "outputs": []
    },
    {
      "cell_type": "code",
      "source": [
        "## ######################################################\n",
        "## note that this function returns two values as a tuple\n",
        "## ######################################################\n",
        "def quotes_match(srch_text, srch1, srch2):\n",
        "    if srch1 in srch_text:\n",
        "        start = srch_text.find(srch1)\n",
        "        end = srch_text.find(srch1,start + 1)\n",
        "        block = srch_text[start:end]\n",
        "        if srch2 not in block:\n",
        "            ## speech marks have matched up\n",
        "            return True, srch_text[end+1:]\n",
        "        else:\n",
        "            return False, \"\"\n",
        "            "
      ],
      "metadata": {
        "id": "RLo13jaqP0pQ"
      },
      "execution_count": 3,
      "outputs": []
    },
    {
      "cell_type": "code",
      "source": [
        "## ###########################################\n",
        "## simple function to recombine the sentences \n",
        "## into a single piece of text\n",
        "## ###########################################\n",
        "def displayText(sentences):\n",
        "    cleaned_text = \"\"\n",
        "    for x in sentences:\n",
        "        cleaned_text = cleaned_text + x\n",
        "    print(cleaned_text)\n",
        "    "
      ],
      "metadata": {
        "id": "556G4BcXP68A"
      },
      "execution_count": 4,
      "outputs": []
    },
    {
      "cell_type": "code",
      "source": [
        "## #############################################\n",
        "## code to split the text into sentences, fix\n",
        "## spaces at the end of sentences and capitalise \n",
        "## the first letter in each sentence\n",
        "## #############################################\n",
        "def fix_sentence_ending(sentence):\n",
        "    if(len(sentence.strip()) == 0):\n",
        "        return \"\";\n",
        "    else:\n",
        "        temp = sentence.strip() + \".  \"\n",
        "        ## capitalize *only* the first character\n",
        "        return temp[0].upper() + temp[1:]\n",
        "        "
      ],
      "metadata": {
        "id": "FOmdeBpmQEqX"
      },
      "execution_count": 5,
      "outputs": []
    },
    {
      "cell_type": "code",
      "source": [
        "## ###########################################\n",
        "## replace semi-colons with full stops\n",
        "## ###########################################\n",
        "def fix_semicolons(text):\n",
        "    return text.replace(\";\",\".\")\n",
        "    "
      ],
      "metadata": {
        "id": "oQVQ2rFZQGs_"
      },
      "execution_count": 6,
      "outputs": []
    },
    {
      "cell_type": "code",
      "source": [
        "## ###########################################\n",
        "## fix spacing after commasd\n",
        "## ###########################################\n",
        "def fix_commas(text):\n",
        "    ## reduce all comma + space to just comma\n",
        "    text = text.replace(\", \",\",\")\n",
        "    ## now we can swap all commas for comma + space\n",
        "    ## whether they had a trailing space or not\n",
        "    return text.replace(\",\",\", \")\n",
        "    "
      ],
      "metadata": {
        "id": "9P64zf0VQK_H"
      },
      "execution_count": 7,
      "outputs": []
    },
    {
      "cell_type": "code",
      "source": [
        "## #######################################################\n",
        "## two possibilities here - hard coding is more selective \n",
        "## but rigid. using punctuation property is comprehensive\n",
        "## #######################################################\n",
        "def fix_duplicate_punctuation(text):\n",
        "    ## this could be achieved through hard-coding\n",
        "    ##for char in [\".\",\",\"... etc]:\n",
        "    ## but this easily deals with all punctuation chars\n",
        "    for char in string.punctuation:    \n",
        "        text = text.replace(char+char,char)\n",
        "    return text\n",
        "    "
      ],
      "metadata": {
        "id": "TFrzoIt8QS53"
      },
      "execution_count": 8,
      "outputs": []
    },
    {
      "cell_type": "code",
      "source": [
        "## ###########################################\n",
        "## for each name in the lookup list, replace \n",
        "## the word in the text with a capitalised\n",
        "## version\n",
        "## ###########################################\n",
        "def fix_proper_names(text):\n",
        "    for name in proper_names:\n",
        "        text = text.replace(name, name.capitalize())\n",
        "    return text\n",
        "\n",
        "    "
      ],
      "metadata": {
        "id": "5KERCzRnQYd4"
      },
      "execution_count": 9,
      "outputs": []
    },
    {
      "cell_type": "code",
      "source": [
        "## ###########################################\n",
        "## main\n",
        "## ###########################################\n",
        "## for enhancement - define list of proper names\n",
        "proper_names = {\"jill\",\"jack\"}\n",
        "\n",
        "# fix proper names\n",
        "data = fix_proper_names(data)\n",
        "\n",
        "## fix duplicated punctuation if any\n",
        "data = fix_duplicate_punctuation(data)\n",
        "\n",
        "\n",
        "## replace the semi-colons with full stops\n",
        "## trailing spaces will be fixed in fix_sentence_ending function\n",
        "data = fix_semicolons(data)\n",
        "data = fix_commas(data)\n",
        "##print(data)\n",
        "\n",
        "def check_quotes(text):\n",
        "    srch = \"'\"\n",
        "    if srch in text:\n",
        "        start = text.find(srch)\n",
        "        end = text.find(srch[start])\n",
        "        block = text[start:end]\n",
        "    srch = '\"'\n",
        "    if srch in text:\n",
        "        start = text.find(srch)\n",
        "        end = text.find(srch[start])\n",
        "        block = text[start:end]    \n",
        "\n",
        "## break up the text into sentences\n",
        "sentences = data.split(\".\")\n",
        "for i in range(len(sentences)):\n",
        "    x = sentences[i]\n",
        "    sentences[i] = fix_sentence_ending(x)  \n",
        "    ##print(sentences[i])\n",
        "\n",
        "displayText(sentences)\n"
      ],
      "metadata": {
        "colab": {
          "base_uri": "https://localhost:8080/"
        },
        "id": "sZVEn3CuQdYw",
        "outputId": "82a7219c-d786-4551-c5b1-860270001280"
      },
      "execution_count": 10,
      "outputs": [
        {
          "output_type": "stream",
          "name": "stdout",
          "text": [
            "Jack and Jill were walking up the hill on the way to the Supermarket to get some mineral water when Jack tripped over a pothole in the road.  He fell down and broke his smartphone.  \"Oh dear!\" said Jack.  Actually, he didn’t say \"Oh dear\", he used some words that Jill was sure his mother wouldn’t approve of and went on to make some descriptive comments on what he thought of the state of the roads leading up the hill.  Jill was so shocked that she didn’t look where she was going and fell down, too, tumbling all the way down the hill.  Jack got up and went home to mend his phone.  Jill suggested using her granny’s remedy of vinegar and brown paper to fix the phone.  Jack replied with a comment that got him grounded for a week during which time he repaired his phone with duct tape and superglue but it was never the same again.  \n"
          ]
        }
      ]
    }
  ]
}