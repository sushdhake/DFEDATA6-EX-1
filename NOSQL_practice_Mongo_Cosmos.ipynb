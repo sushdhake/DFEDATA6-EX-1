{
  "nbformat": 4,
  "nbformat_minor": 0,
  "metadata": {
    "colab": {
      "name": "006 PyMongo Cosmos.ipynb",
      "provenance": [],
      "collapsed_sections": [],
      "include_colab_link": true
    },
    "kernelspec": {
      "name": "python3",
      "display_name": "Python 3"
    },
    "language_info": {
      "name": "python"
    }
  },
  "cells": [
    {
      "cell_type": "markdown",
      "metadata": {
        "id": "view-in-github",
        "colab_type": "text"
      },
      "source": [
        "<a href=\"https://colab.research.google.com/github/sushdhake/DFEDATA6-EX-1/blob/master/NOSQL_practice_Mongo_Cosmos.ipynb\" target=\"_parent\"><img src=\"https://colab.research.google.com/assets/colab-badge.svg\" alt=\"Open In Colab\"/></a>"
      ]
    },
    {
      "cell_type": "code",
      "metadata": {
        "id": "4J2wIcM1-ZdB"
      },
      "source": [
        "# PLEASE DO NOT CHANGE THIS LINE\n",
        "import pymongo\n",
        "connectionString = \"mongodb://asteroid:qeqpcXHLl1NDTOsnAjH0X8ZkAWgEVUYiusxnjGKgAsc4fKnujvSOOBTdFNYoXFLUs4BFGweeKN1fFZKukehPSA==@asteroid.mongo.cosmos.azure.com:10255/?ssl=true&retrywrites=false&replicaSet=globaldb&maxIdleTimeMS=120000&appName=@asteroid@\"\n",
        "client = pymongo.MongoClient(connectionString)"
      ],
      "execution_count": 7,
      "outputs": []
    },
    {
      "cell_type": "code",
      "metadata": {
        "id": "D1UWc_tb1vAU"
      },
      "source": [
        "mydb = client[\"monkeybar\"] # PLEASE DO NOT CHANGE THIS LINE"
      ],
      "execution_count": 8,
      "outputs": []
    },
    {
      "cell_type": "code",
      "metadata": {
        "id": "ViuCq-5D87BV"
      },
      "source": [
        "mycol = mydb[\"sunny\"] # Change collection name 'fish' to anything else that you like!"
      ],
      "execution_count": 9,
      "outputs": []
    },
    {
      "cell_type": "code",
      "metadata": {
        "id": "s-j7opwR9HFW"
      },
      "source": [
        "mydict = { \"name\": \"Author\", \"address\": \"Andrews Drive\" }\n",
        "\n",
        "x = mycol.insert_one(mydict)"
      ],
      "execution_count": 10,
      "outputs": []
    },
    {
      "cell_type": "code",
      "metadata": {
        "id": "McCQQaXI9SOe"
      },
      "source": [
        "mydict = { \"name\": \"Snail\", \"age\": 20 }\n",
        "\n",
        "x = mycol.insert_one(mydict)"
      ],
      "execution_count": 12,
      "outputs": []
    },
    {
      "cell_type": "code",
      "metadata": {
        "id": "BDOiHbc-G7lM"
      },
      "source": [
        ""
      ],
      "execution_count": null,
      "outputs": []
    },
    {
      "cell_type": "code",
      "metadata": {
        "id": "n0EgDSQq9qIL"
      },
      "source": [
        "r2 = { \"name\": \"Snail\", \"complex\": mydict , \"subjects\":[\"eng\",\"fr\",\"gt\"]}\n",
        "\n",
        "x = mycol.insert_one(r2)"
      ],
      "execution_count": 13,
      "outputs": []
    },
    {
      "cell_type": "code",
      "metadata": {
        "colab": {
          "base_uri": "https://localhost:8080/"
        },
        "id": "Bu_SKVlg94LP",
        "outputId": "58b69674-692b-4700-915f-ea01c7668cfd"
      },
      "source": [
        "# MongoDB-> Document Database \n",
        "for x in mycol.find():\n",
        "  print(x)"
      ],
      "execution_count": 14,
      "outputs": [
        {
          "output_type": "stream",
          "name": "stdout",
          "text": [
            "{'_id': ObjectId('6213b4747f77172483cdaa05'), 'name': 'Author', 'address': 'Andrews Drive'}\n",
            "{'_id': ObjectId('6213b4e47f77172483cdaa06'), 'name': 'Snail', 'complex': {'name': 'Author', 'address': 'Andrews Drive', '_id': ObjectId('6213b4747f77172483cdaa05')}, 'subjects': ['eng', 'fr', 'gt']}\n",
            "{'_id': ObjectId('6213b4f17f77172483cdaa07'), 'name': 'Snail', 'age': 20}\n",
            "{'_id': ObjectId('6213b4f77f77172483cdaa08'), 'name': 'Snail', 'complex': {'name': 'Snail', 'age': 20, '_id': ObjectId('6213b4f17f77172483cdaa07')}, 'subjects': ['eng', 'fr', 'gt']}\n"
          ]
        }
      ]
    },
    {
      "cell_type": "code",
      "metadata": {
        "colab": {
          "base_uri": "https://localhost:8080/"
        },
        "id": "1hWjlFs2-d7f",
        "outputId": "2a467130-e831-4383-cd87-58e324beb7cb"
      },
      "source": [
        "for x in mycol.find({\"name\":\"Snail\", \"age\":20}).limit(1):\n",
        "  print(x)"
      ],
      "execution_count": 15,
      "outputs": [
        {
          "output_type": "stream",
          "name": "stdout",
          "text": [
            "{'_id': ObjectId('6213b4f17f77172483cdaa07'), 'name': 'Snail', 'age': 20}\n"
          ]
        }
      ]
    },
    {
      "cell_type": "code",
      "metadata": {
        "colab": {
          "base_uri": "https://localhost:8080/"
        },
        "id": "PaT8LNoeMFRe",
        "outputId": "a18db21e-a0a8-47e7-d017-c8630ceca624"
      },
      "source": [
        "myquery = { \"name\": { \"$regex\": \"r$\" } } # for example, this is a \n",
        "# regular expression that ends with letter 'p'\n",
        "\n",
        "mydoc = mycol.find(myquery)\n",
        "\n",
        "for x in mydoc:\n",
        "  print(x)"
      ],
      "execution_count": 16,
      "outputs": [
        {
          "output_type": "stream",
          "name": "stdout",
          "text": [
            "{'_id': ObjectId('6213b4747f77172483cdaa05'), 'name': 'Author', 'address': 'Andrews Drive'}\n"
          ]
        }
      ]
    },
    {
      "cell_type": "code",
      "metadata": {
        "id": "LY5uckz_MBAe"
      },
      "source": [
        ""
      ],
      "execution_count": null,
      "outputs": []
    }
  ]
}