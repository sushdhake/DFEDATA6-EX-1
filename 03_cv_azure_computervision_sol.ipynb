{
  "nbformat": 4,
  "nbformat_minor": 0,
  "metadata": {
    "colab": {
      "name": "03_cv_azure_computervision sol.ipynb",
      "provenance": [],
      "authorship_tag": "ABX9TyOK88UjwL7frCRfKnfsS2Pm",
      "include_colab_link": true
    },
    "kernelspec": {
      "name": "python3",
      "display_name": "Python 3"
    },
    "language_info": {
      "name": "python"
    }
  },
  "cells": [
    {
      "cell_type": "markdown",
      "metadata": {
        "id": "view-in-github",
        "colab_type": "text"
      },
      "source": [
        "<a href=\"https://colab.research.google.com/github/sushdhake/DFEDATA6-EX-1/blob/master/03_cv_azure_computervision_sol.ipynb\" target=\"_parent\"><img src=\"https://colab.research.google.com/assets/colab-badge.svg\" alt=\"Open In Colab\"/></a>"
      ]
    },
    {
      "cell_type": "code",
      "execution_count": 3,
      "metadata": {
        "colab": {
          "base_uri": "https://localhost:8080/"
        },
        "id": "9gw-FeGWxf2H",
        "outputId": "837a9504-99c5-4249-9414-83b0dac1c157"
      },
      "outputs": [
        {
          "output_type": "stream",
          "name": "stdout",
          "text": [
            "Requirement already satisfied: azure-cognitiveservices-vision-computervision in /usr/local/lib/python3.7/dist-packages (0.9.0)\n",
            "Requirement already satisfied: msrest>=0.5.0 in /usr/local/lib/python3.7/dist-packages (from azure-cognitiveservices-vision-computervision) (0.6.21)\n",
            "Requirement already satisfied: azure-common~=1.1 in /usr/local/lib/python3.7/dist-packages (from azure-cognitiveservices-vision-computervision) (1.1.28)\n",
            "Requirement already satisfied: requests~=2.16 in /usr/local/lib/python3.7/dist-packages (from msrest>=0.5.0->azure-cognitiveservices-vision-computervision) (2.23.0)\n",
            "Requirement already satisfied: requests-oauthlib>=0.5.0 in /usr/local/lib/python3.7/dist-packages (from msrest>=0.5.0->azure-cognitiveservices-vision-computervision) (1.3.1)\n",
            "Requirement already satisfied: certifi>=2017.4.17 in /usr/local/lib/python3.7/dist-packages (from msrest>=0.5.0->azure-cognitiveservices-vision-computervision) (2021.10.8)\n",
            "Requirement already satisfied: isodate>=0.6.0 in /usr/local/lib/python3.7/dist-packages (from msrest>=0.5.0->azure-cognitiveservices-vision-computervision) (0.6.1)\n",
            "Requirement already satisfied: six in /usr/local/lib/python3.7/dist-packages (from isodate>=0.6.0->msrest>=0.5.0->azure-cognitiveservices-vision-computervision) (1.15.0)\n",
            "Requirement already satisfied: urllib3!=1.25.0,!=1.25.1,<1.26,>=1.21.1 in /usr/local/lib/python3.7/dist-packages (from requests~=2.16->msrest>=0.5.0->azure-cognitiveservices-vision-computervision) (1.24.3)\n",
            "Requirement already satisfied: chardet<4,>=3.0.2 in /usr/local/lib/python3.7/dist-packages (from requests~=2.16->msrest>=0.5.0->azure-cognitiveservices-vision-computervision) (3.0.4)\n",
            "Requirement already satisfied: idna<3,>=2.5 in /usr/local/lib/python3.7/dist-packages (from requests~=2.16->msrest>=0.5.0->azure-cognitiveservices-vision-computervision) (2.10)\n",
            "Requirement already satisfied: oauthlib>=3.0.0 in /usr/local/lib/python3.7/dist-packages (from requests-oauthlib>=0.5.0->msrest>=0.5.0->azure-cognitiveservices-vision-computervision) (3.2.0)\n",
            "Requirement already satisfied: pillow in /usr/local/lib/python3.7/dist-packages (7.1.2)\n"
          ]
        }
      ],
      "source": [
        "!pip install --upgrade azure-cognitiveservices-vision-computervision\n",
        "!pip install pillow"
      ]
    },
    {
      "cell_type": "code",
      "source": [
        "from azure.cognitiveservices.vision.computervision import ComputerVisionClient\n",
        "from azure.cognitiveservices.vision.computervision.models import OperationStatusCodes\n",
        "from azure.cognitiveservices.vision.computervision.models import VisualFeatureTypes\n",
        "from msrest.authentication import CognitiveServicesCredentials\n",
        "\n",
        "from array import array\n",
        "import os\n",
        "from PIL import Image\n",
        "import sys\n",
        "import time"
      ],
      "metadata": {
        "id": "krziCkIQx5ud"
      },
      "execution_count": 5,
      "outputs": []
    },
    {
      "cell_type": "code",
      "source": [
        "subscription_key = \"fd4ef786ac3d40ba82c91076ca08174a\"\n",
        "endpoint = \"https://mycognitiveserviceresourse.cognitiveservices.azure.com/\""
      ],
      "metadata": {
        "id": "36TNQmIzyDOU"
      },
      "execution_count": 6,
      "outputs": []
    },
    {
      "cell_type": "code",
      "source": [
        "#authenticate our notebook for azure computer vision\n",
        "cvcredentials = CognitiveServicesCredentials(subscription_key)\n",
        "computervision_client = ComputerVisionClient(endpoint, cvcredentials)"
      ],
      "metadata": {
        "id": "vHQhWKXny4sV"
      },
      "execution_count": 7,
      "outputs": []
    },
    {
      "cell_type": "code",
      "source": [
        "baseurl = 'https://tomato5615603831.blob.core.windows.net/images/'\n",
        "imgname = ['00001.jpeg','00002.jpeg','00003.jpeg','cv0001.jpeg', 'cv0002.jpeg', 'cv0003.jpeg','cv0004.jpeg']\n",
        "imgurl = {}\n",
        "for i,img in enumerate(imgname):\n",
        "  fname =  baseurl + img\n",
        "  imgurl[imgname[i]] = fname\n",
        "imgurl"
      ],
      "metadata": {
        "colab": {
          "base_uri": "https://localhost:8080/"
        },
        "id": "vmkBUxk3zG9t",
        "outputId": "fb550b82-5d61-4eff-b386-b3b90d11910d"
      },
      "execution_count": 8,
      "outputs": [
        {
          "output_type": "execute_result",
          "data": {
            "text/plain": [
              "{'00001.jpeg': 'https://tomato5615603831.blob.core.windows.net/images/00001.jpeg',\n",
              " '00002.jpeg': 'https://tomato5615603831.blob.core.windows.net/images/00002.jpeg',\n",
              " '00003.jpeg': 'https://tomato5615603831.blob.core.windows.net/images/00003.jpeg',\n",
              " 'cv0001.jpeg': 'https://tomato5615603831.blob.core.windows.net/images/cv0001.jpeg',\n",
              " 'cv0002.jpeg': 'https://tomato5615603831.blob.core.windows.net/images/cv0002.jpeg',\n",
              " 'cv0003.jpeg': 'https://tomato5615603831.blob.core.windows.net/images/cv0003.jpeg',\n",
              " 'cv0004.jpeg': 'https://tomato5615603831.blob.core.windows.net/images/cv0004.jpeg'}"
            ]
          },
          "metadata": {},
          "execution_count": 8
        }
      ]
    },
    {
      "cell_type": "code",
      "source": [
        "for imname, imgur in imgurl.items():\n",
        "  description_results = computervision_client.describe_image(imgur)\n",
        "  print('Image = ' + imname)\n",
        "  print()\n",
        "  # Get the captions (descriptions) from the response, with confidence level\n",
        "  print(\"Description of remote image: \")\n",
        "  if (len(description_results.captions) == 0):\n",
        "      print(\"No description detected.\")\n",
        "      print('****')\n",
        "  else:\n",
        "      for caption in description_results.captions:\n",
        "          print(\"'{}' with confidence {:.2f}%\".format(caption.text, caption.confidence * 100))\n",
        "      print('****')"
      ],
      "metadata": {
        "colab": {
          "base_uri": "https://localhost:8080/"
        },
        "id": "AovV-mE_0NmV",
        "outputId": "483f68fc-7ede-435a-9cb0-b4d8be612ab4"
      },
      "execution_count": 9,
      "outputs": [
        {
          "output_type": "stream",
          "name": "stdout",
          "text": [
            "Image = 00001.jpeg\n",
            "\n",
            "Description of remote image: \n",
            "'David Tennant, Christopher Eccleston, Matt Smith are posing for a picture' with confidence 46.75%\n",
            "****\n",
            "Image = 00002.jpeg\n",
            "\n",
            "Description of remote image: \n",
            "'a person standing next to a robot' with confidence 59.51%\n",
            "****\n",
            "Image = 00003.jpeg\n",
            "\n",
            "Description of remote image: \n",
            "'a man wearing a garment' with confidence 52.66%\n",
            "****\n",
            "Image = cv0001.jpeg\n",
            "\n",
            "Description of remote image: \n",
            "'a colorful sea creature' with confidence 48.79%\n",
            "****\n",
            "Image = cv0002.jpeg\n",
            "\n",
            "Description of remote image: \n",
            "'a city street at night' with confidence 53.49%\n",
            "****\n",
            "Image = cv0003.jpeg\n",
            "\n",
            "Description of remote image: \n",
            "'diagram' with confidence 56.77%\n",
            "****\n",
            "Image = cv0004.jpeg\n",
            "\n",
            "Description of remote image: \n",
            "'logo, company name' with confidence 99.99%\n",
            "****\n"
          ]
        }
      ]
    },
    {
      "cell_type": "code",
      "source": [
        "for imname, imgur in imgurl.items():\n",
        "\n",
        "  remote_image_features = [\"categories\"]\n",
        "  # Call API with URL and features\n",
        "  categorize_results_remote = computervision_client.analyze_image(imgur , remote_image_features)\n",
        "  print(imname)\n",
        "  # Print results with confidence score\n",
        "  print(\"Categories from remote image: \")\n",
        "  if (len(categorize_results_remote.categories) == 0):\n",
        "      print(\"No categories detected.\")\n",
        "      print('*****')\n",
        "  else:\n",
        "      for category in categorize_results_remote.categories:\n",
        "          print(\"'{}' with confidence {:.2f}%\".format(category.name, category.score * 100))\n",
        "      print('*****')"
      ],
      "metadata": {
        "colab": {
          "base_uri": "https://localhost:8080/"
        },
        "id": "hvxti-YC0lwb",
        "outputId": "9ef82822-8f92-414b-818a-bfb84ac20dd3"
      },
      "execution_count": 10,
      "outputs": [
        {
          "output_type": "stream",
          "name": "stdout",
          "text": [
            "00001.jpeg\n",
            "Categories from remote image: \n",
            "'others_' with confidence 0.39%\n",
            "'people_' with confidence 57.81%\n",
            "'people_show' with confidence 36.33%\n",
            "*****\n",
            "00002.jpeg\n",
            "Categories from remote image: \n",
            "'others_' with confidence 9.77%\n",
            "*****\n",
            "00003.jpeg\n",
            "Categories from remote image: \n",
            "'others_' with confidence 3.12%\n",
            "'people_' with confidence 35.16%\n",
            "*****\n",
            "cv0001.jpeg\n",
            "Categories from remote image: \n",
            "'others_' with confidence 0.39%\n",
            "'outdoor_' with confidence 1.56%\n",
            "*****\n",
            "cv0002.jpeg\n",
            "Categories from remote image: \n",
            "'abstract_' with confidence 0.39%\n",
            "'outdoor_' with confidence 2.34%\n",
            "*****\n",
            "cv0003.jpeg\n",
            "Categories from remote image: \n",
            "'others_' with confidence 0.39%\n",
            "'people_' with confidence 44.92%\n",
            "*****\n",
            "cv0004.jpeg\n",
            "Categories from remote image: \n",
            "'others_' with confidence 1.17%\n",
            "'text_sign' with confidence 38.67%\n",
            "*****\n"
          ]
        }
      ]
    },
    {
      "cell_type": "code",
      "source": [
        "for imname, imgur in imgurl.items():\n",
        "\n",
        "  # Call API with remote image\n",
        "  tags_result_remote = computervision_client.tag_image(imgur)\n",
        "  print(imname)\n",
        "  # Print results with confidence score\n",
        "  print(\"Tags in the remote image: \")\n",
        "  if (len(tags_result_remote.tags) == 0):\n",
        "      print(\"No tags detected.\")\n",
        "      print('****')\n",
        "  else:\n",
        "      for tag in tags_result_remote.tags:\n",
        "          print(\"'{}' with confidence {:.2f}%\".format(tag.name, tag.confidence * 100))\n",
        "      print('****')"
      ],
      "metadata": {
        "colab": {
          "base_uri": "https://localhost:8080/"
        },
        "id": "D1rG-Hwv0yZL",
        "outputId": "057c7acc-429d-4db3-f1b0-6f01561dc24c"
      },
      "execution_count": 11,
      "outputs": [
        {
          "output_type": "stream",
          "name": "stdout",
          "text": [
            "00001.jpeg\n",
            "Tags in the remote image: \n",
            "'person' with confidence 99.62%\n",
            "'clothing' with confidence 99.37%\n",
            "'human face' with confidence 99.23%\n",
            "'candle' with confidence 95.42%\n",
            "'man' with confidence 91.79%\n",
            "'screenshot' with confidence 85.56%\n",
            "'dark' with confidence 56.35%\n",
            "****\n",
            "00002.jpeg\n",
            "Tags in the remote image: \n",
            "'clothing' with confidence 94.08%\n",
            "'fictional character' with confidence 93.78%\n",
            "'person' with confidence 93.29%\n",
            "'armour' with confidence 90.12%\n",
            "'superhero' with confidence 89.36%\n",
            "'hero' with confidence 88.28%\n",
            "'woman' with confidence 87.46%\n",
            "'statue' with confidence 85.84%\n",
            "'costume' with confidence 85.73%\n",
            "'breastplate' with confidence 84.69%\n",
            "'avengers' with confidence 84.10%\n",
            "'indoor' with confidence 65.63%\n",
            "'armor' with confidence 65.55%\n",
            "****\n",
            "00003.jpeg\n",
            "Tags in the remote image: \n",
            "'mask' with confidence 95.67%\n",
            "'fictional character' with confidence 94.49%\n",
            "'clothing' with confidence 94.06%\n",
            "'masque' with confidence 93.59%\n",
            "'cartoon' with confidence 93.26%\n",
            "'batman' with confidence 89.57%\n",
            "****\n",
            "cv0001.jpeg\n",
            "Tags in the remote image: \n",
            "'animal' with confidence 99.83%\n",
            "'invertebrate' with confidence 98.23%\n",
            "'crustacean' with confidence 87.05%\n",
            "'ground' with confidence 72.67%\n",
            "'shrimp' with confidence 61.79%\n",
            "'underwater' with confidence 54.75%\n",
            "****\n",
            "cv0002.jpeg\n",
            "Tags in the remote image: \n",
            "'building' with confidence 99.40%\n",
            "'outdoor' with confidence 96.95%\n",
            "'street' with confidence 96.89%\n",
            "'night' with confidence 92.43%\n",
            "'vehicle' with confidence 92.00%\n",
            "'car' with confidence 90.38%\n",
            "'downtown' with confidence 89.53%\n",
            "'metropolitan area' with confidence 88.98%\n",
            "'metropolis' with confidence 88.40%\n",
            "'skyscraper' with confidence 87.93%\n",
            "'urban area' with confidence 86.72%\n",
            "'mixed-use' with confidence 85.23%\n",
            "'traffic' with confidence 84.28%\n",
            "'city' with confidence 81.53%\n",
            "'light' with confidence 80.33%\n",
            "'rain' with confidence 79.73%\n",
            "'wet' with confidence 69.42%\n",
            "'reflection' with confidence 62.56%\n",
            "'rainy' with confidence 56.56%\n",
            "'cityscape' with confidence 50.77%\n",
            "****\n",
            "cv0003.jpeg\n",
            "Tags in the remote image: \n",
            "'human face' with confidence 92.46%\n",
            "'animated cartoon' with confidence 92.16%\n",
            "'animation' with confidence 91.38%\n",
            "'illustration' with confidence 89.31%\n",
            "'pc game' with confidence 86.20%\n",
            "'fiction' with confidence 86.09%\n",
            "'anime' with confidence 86.02%\n",
            "'cartoon' with confidence 83.40%\n",
            "'art' with confidence 44.78%\n",
            "****\n",
            "cv0004.jpeg\n",
            "Tags in the remote image: \n",
            "'text' with confidence 99.99%\n",
            "'screenshot' with confidence 97.79%\n",
            "'logo' with confidence 95.51%\n",
            "'font' with confidence 91.63%\n",
            "'brand' with confidence 90.44%\n",
            "'graphics' with confidence 86.37%\n",
            "'graphic design' with confidence 86.11%\n",
            "'design' with confidence 61.11%\n",
            "****\n"
          ]
        }
      ]
    },
    {
      "cell_type": "code",
      "source": [
        "for imname, imgur in imgurl.items():\n",
        "  detect_objects_results_remote = computervision_client.detect_objects(imgur)\n",
        "  print('*****')\n",
        "  print(imname)\n",
        "  # Print detected objects results with bounding boxes\n",
        "  print(\"Detecting objects in remote image:\")\n",
        "  if len(detect_objects_results_remote.objects) == 0:\n",
        "      print(\"No objects detected.\")\n",
        "  else:\n",
        "      for object in detect_objects_results_remote.objects:\n",
        "          print(\"object at location {}, {}, {}, {}\".format( \\\n",
        "          object.rectangle.x, object.rectangle.x + object.rectangle.w, \\\n",
        "          object.rectangle.y, object.rectangle.y + object.rectangle.h))"
      ],
      "metadata": {
        "colab": {
          "base_uri": "https://localhost:8080/"
        },
        "id": "lqSxgLxJ1Fo0",
        "outputId": "922e88ad-3931-472a-ce8e-47957e971e51"
      },
      "execution_count": 12,
      "outputs": [
        {
          "output_type": "stream",
          "name": "stdout",
          "text": [
            "*****\n",
            "00001.jpeg\n",
            "Detecting objects in remote image:\n",
            "object at location 89, 299, 222, 523\n",
            "object at location 1193, 1428, 229, 899\n",
            "object at location 351, 1039, 37, 881\n",
            "*****\n",
            "00002.jpeg\n",
            "Detecting objects in remote image:\n",
            "object at location 411, 583, 40, 420\n",
            "object at location 42, 220, 220, 438\n",
            "object at location 215, 417, 227, 438\n",
            "object at location 1181, 1399, 88, 511\n",
            "object at location 35, 213, 234, 682\n",
            "*****\n",
            "00003.jpeg\n",
            "Detecting objects in remote image:\n",
            "object at location 3, 271, 3, 280\n",
            "*****\n",
            "cv0001.jpeg\n",
            "Detecting objects in remote image:\n",
            "object at location 48, 1266, 90, 1018\n",
            "*****\n",
            "cv0002.jpeg\n",
            "Detecting objects in remote image:\n",
            "object at location 1917, 2429, 923, 1150\n",
            "*****\n",
            "cv0003.jpeg\n",
            "Detecting objects in remote image:\n",
            "No objects detected.\n",
            "*****\n",
            "cv0004.jpeg\n",
            "Detecting objects in remote image:\n",
            "No objects detected.\n"
          ]
        }
      ]
    },
    {
      "cell_type": "code",
      "source": [
        "\n",
        "for imgname, imgur in imgurl.items():\n",
        "    \n",
        "  remote_image_url_faces = imgur\n",
        "  # Select the visual feature(s) you want.\n",
        "  remote_image_features = [\"faces\"]\n",
        "  # Call the API with remote URL and features\n",
        "  detect_faces_results_remote = computervision_client.analyze_image(remote_image_url_faces, remote_image_features)\n",
        "  print('****')\n",
        "  print(imgname)\n",
        "  # Print the results with gender, age, and bounding box\n",
        "  print(\"Faces in the remote image: \")\n",
        "  if (len(detect_faces_results_remote.faces) == 0):\n",
        "      print(\"No faces detected.\")\n",
        "  else:\n",
        "      for face in detect_faces_results_remote.faces:\n",
        "          print(\"'{}' of age {} at location {}, {}, {}, {}\".format(face.gender, face.age, \\\n",
        "          face.face_rectangle.left, face.face_rectangle.top, \\\n",
        "          face.face_rectangle.left + face.face_rectangle.width, \\\n",
        "          face.face_rectangle.top + face.face_rectangle.height))"
      ],
      "metadata": {
        "colab": {
          "base_uri": "https://localhost:8080/"
        },
        "id": "laUTf50K1yvE",
        "outputId": "9216b4ee-b3d5-4d67-d7bf-95d663894c62"
      },
      "execution_count": 13,
      "outputs": [
        {
          "output_type": "stream",
          "name": "stdout",
          "text": [
            "****\n",
            "00001.jpeg\n",
            "Faces in the remote image: \n",
            "'Male' of age 34 at location 575, 177, 760, 362\n",
            "'Male' of age 42 at location 132, 248, 208, 324\n",
            "'Male' of age 31 at location 1267, 264, 1330, 327\n",
            "****\n",
            "00002.jpeg\n",
            "Faces in the remote image: \n",
            "'Male' of age 50 at location 1259, 139, 1332, 212\n",
            "'Female' of age 27 at location 452, 58, 505, 111\n",
            "'Male' of age 30 at location 1099, 147, 1152, 200\n",
            "'Male' of age 37 at location 96, 263, 146, 313\n",
            "'Male' of age 27 at location 1070, 222, 1117, 269\n",
            "****\n",
            "00003.jpeg\n",
            "Faces in the remote image: \n",
            "No faces detected.\n",
            "****\n",
            "cv0001.jpeg\n",
            "Faces in the remote image: \n",
            "No faces detected.\n",
            "****\n",
            "cv0002.jpeg\n",
            "Faces in the remote image: \n",
            "'Male' of age 30 at location 1644, 115, 1708, 179\n",
            "****\n",
            "cv0003.jpeg\n",
            "Faces in the remote image: \n",
            "No faces detected.\n",
            "****\n",
            "cv0004.jpeg\n",
            "Faces in the remote image: \n",
            "No faces detected.\n"
          ]
        }
      ]
    },
    {
      "cell_type": "code",
      "source": [
        ""
      ],
      "metadata": {
        "id": "CGJ7B_Xe3A2e"
      },
      "execution_count": null,
      "outputs": []
    }
  ]
}